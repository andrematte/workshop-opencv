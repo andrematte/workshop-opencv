{
 "cells": [
  {
   "cell_type": "markdown",
   "metadata": {},
   "source": [
    "# 3 - Transformações Geométricas\n",
    "\n",
    "As transformações geométricas em OpenCV são usadas para alterar a posição, o tamanho, a orientação ou a forma de uma imagem. Isso é fundamental em tarefas de visão computacional, como o ajuste de perspectiva, rotação de imagens e alinhamento de objetos.\n",
    "\n",
    "Nesta seção vamos abordar os seguintes itens:\n",
    "\n",
    "1. Redimensionamento de imagens\n",
    "   1. Extra: Operações matemáticas entre imagens\n",
    "2. Transformação de Perspectiva (*Warp Perspective*)"
   ]
  },
  {
   "cell_type": "markdown",
   "metadata": {},
   "source": [
    "---\n",
    "## Importando as bibliotecas necessárias"
   ]
  },
  {
   "cell_type": "code",
   "execution_count": null,
   "metadata": {},
   "outputs": [],
   "source": [
    "# Importe as bibliotecas necessarias:\n",
    "\n",
    "\n"
   ]
  },
  {
   "cell_type": "markdown",
   "metadata": {},
   "source": [
    "---\n",
    "## Redimensionamento\n",
    "\n",
    "O redimensionamento altera o tamanho da imagem, aumentando ou reduzindo sua largura e altura."
   ]
  },
  {
   "cell_type": "code",
   "execution_count": null,
   "metadata": {},
   "outputs": [],
   "source": [
    "# Carregue a imagem `media/gatogordo.jpg` no formato BGR\n",
    "\n",
    "\n",
    "# Converta a imagem para RGB\n",
    "\n",
    "\n",
    "# Exiba a imagem\n"
   ]
  },
  {
   "cell_type": "markdown",
   "metadata": {},
   "source": [
    "A função `cv2.resize()` permite a operação de redimensionamento de imagens."
   ]
  },
  {
   "cell_type": "code",
   "execution_count": null,
   "metadata": {},
   "outputs": [],
   "source": [
    "# Redimensione a imagem para o tamanho desejado\n",
    "\n",
    "\n",
    "# Exiba a imagem redimensionada\n"
   ]
  },
  {
   "cell_type": "markdown",
   "metadata": {},
   "source": [
    "## Extra: Operações Matemáticas entre Imagens\n",
    "\n",
    "Operações entre imagens diferentes pode ser útil em vários cenários. **Podemos somar, subtrair e multiplicar imagens, afinal elas são matrizes**. Uma das utilidades da soma entre imagens é para a inclusão de marca d'água.\n",
    "\n",
    " Vamos inserir o logo da UFPA como marca d'água na imagem do gato gordo!"
   ]
  },
  {
   "cell_type": "code",
   "execution_count": null,
   "metadata": {},
   "outputs": [],
   "source": [
    "# Carregue o logo da UFPA e converter para RGB\n",
    "\n",
    "\n",
    "# Exiba o logo da UFPA\n"
   ]
  },
  {
   "cell_type": "code",
   "execution_count": null,
   "metadata": {},
   "outputs": [],
   "source": [
    "# Redimensione o logo para 1250x1250\n",
    "\n",
    "\n",
    "# Exiba o logo redimensionado\n"
   ]
  },
  {
   "cell_type": "code",
   "execution_count": null,
   "metadata": {},
   "outputs": [],
   "source": [
    "# Some as duas imagens\n",
    "\n",
    "\n",
    "# Exiba a imagem resultante\n"
   ]
  },
  {
   "cell_type": "code",
   "execution_count": null,
   "metadata": {},
   "outputs": [],
   "source": [
    "# Usar a soma ponderada cv2.addWeighted para combinar as imagens\n",
    "\n",
    "\n",
    "\n",
    "\n",
    "# Exibir a imagem\n"
   ]
  },
  {
   "cell_type": "markdown",
   "metadata": {},
   "source": [
    "---\n",
    "## Transformação de Perspectiva (Warp Perspective\n",
    "\n",
    "Muitas vezes o objeto de interesse não está sendo visto diretamente na imagem, dificultando o seu processamento. A transformação de perspectiva é uma boa solução para simular o ponto de vista ideal do objeto.\n",
    "\n",
    "![warp](../docs/assets/warp.png)\n",
    "\n",
    "Para ilustrar esta transformação, utilizaremos a imagem `media/dragon.png`"
   ]
  },
  {
   "cell_type": "code",
   "execution_count": 1,
   "metadata": {},
   "outputs": [],
   "source": [
    "# Carregue a imagem `media/dragon.png` e converta para RGB\n",
    "\n",
    "\n",
    "# Exiba a imagem\n"
   ]
  },
  {
   "cell_type": "markdown",
   "metadata": {},
   "source": [
    "Aqui queremos ver a carta com uma vista de cima. Para isso, temos que encontrar os quatro pontos da imagem original."
   ]
  },
  {
   "cell_type": "code",
   "execution_count": null,
   "metadata": {},
   "outputs": [],
   "source": [
    "# Faça uma cópia da imagem para desenhar os pontos\n",
    "\n",
    "\n",
    "# Encontre os quatro pontos na imagem\n",
    "# Ponto 1\n",
    "\n",
    "\n",
    "\n",
    "# Ponto 2\n",
    "\n",
    "\n",
    "\n",
    "# Ponto 3\n",
    "\n",
    "\n",
    "\n",
    "# Ponto 4\n",
    "\n",
    "\n",
    "\n",
    "# Transforme os pontos em um array do numpy\n",
    "\n",
    "\n",
    "# Conectando os pontos, para visualização\n",
    "\n",
    "\n",
    "\n",
    "\n",
    "\n",
    "# Exiba a imagem com os pontos conectados\n"
   ]
  },
  {
   "cell_type": "markdown",
   "metadata": {},
   "source": [
    "Agora precisamos definir os pontos nas coordenadas de destino:"
   ]
  },
  {
   "cell_type": "code",
   "execution_count": null,
   "metadata": {},
   "outputs": [],
   "source": [
    "# Defina o tamanho da imagem resultante\n",
    "\n",
    "\n",
    "# Defina os quatro pontos de destino para transformar a perspectiva\n"
   ]
  },
  {
   "cell_type": "markdown",
   "metadata": {},
   "source": [
    "Agora que temos o conjunto de pontos de origem e de destino, podemos calcular a matriz de transformação de perspectiva e aplicar a transformação."
   ]
  },
  {
   "cell_type": "code",
   "execution_count": null,
   "metadata": {},
   "outputs": [],
   "source": [
    "# Obtenha a matriz de transformação de perspectiva\n",
    "\n",
    "\n",
    "# Realize a transformação de perspectiva\n",
    "\n",
    "\n",
    "# Exiba a imagem resultante\n"
   ]
  }
 ],
 "metadata": {
  "kernelspec": {
   "display_name": "Python 3 (ipykernel)",
   "language": "python",
   "name": "python3"
  },
  "language_info": {
   "codemirror_mode": {
    "name": "ipython",
    "version": 3
   },
   "file_extension": ".py",
   "mimetype": "text/x-python",
   "name": "python",
   "nbconvert_exporter": "python",
   "pygments_lexer": "ipython3",
   "version": "3.12.5"
  }
 },
 "nbformat": 4,
 "nbformat_minor": 4
}
