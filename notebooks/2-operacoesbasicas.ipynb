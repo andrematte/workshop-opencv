{
 "cells": [
  {
   "cell_type": "markdown",
   "metadata": {},
   "source": [
    "# 2 - Operações Básicas\n",
    "\n",
    "Nesta seção iremos aprender as principais operações básicas utilizadas em pipelines de processamento de imagens.\n",
    "\n",
    "1. Conversão de espaços de cor (Escala de Cinza, RGB, HSV)\n",
    "2. Extração de regiões de interesse (ROI)\n",
    "3. Desenho de formas geométricas e textos na imagem\n",
    "4. Operações lógicas entre imagens\n",
    "\n",
    "Utilizaremos a imagem `workshop-opencv/notebooks/images/gatogordo.jpg` para demonstração."
   ]
  },
  {
   "cell_type": "markdown",
   "metadata": {},
   "source": [
    "---\n",
    "## Importando as bibliotecas necessárias\n",
    "\n",
    "Vamos iniciar importando as bibliotecas necessárias para esta seção: `numpy`, `cv2` e `matplotlib.pyplot`."
   ]
  },
  {
   "cell_type": "code",
   "execution_count": null,
   "metadata": {},
   "outputs": [],
   "source": [
    "# Importe as bibliotecas aqui\n",
    "\n",
    "\n"
   ]
  },
  {
   "cell_type": "markdown",
   "metadata": {},
   "source": [
    "---\n",
    "## Conversão de Espaços de Cores\n",
    "\n",
    "Os espaços de cores são maneiras de representar cores, cada um com diferentes finalidades. Os principais espaços de cores usados no processamento de imagens incluem\n",
    "\n",
    "- Escala de Cinza\n",
    "- RGB (Red, Green, Blue)\n",
    "- HSV (Hue, Saturation, Value)\n",
    "\n",
    "No OpenCV, a função `cv2.cvtColor()` é utilizada para conversão entre os espaços.\n",
    "\n",
    "Vamos carregar a imagem `media/gatogordo.jpg` no formato BGR."
   ]
  },
  {
   "cell_type": "code",
   "execution_count": null,
   "metadata": {},
   "outputs": [],
   "source": [
    "# Carregue a imagem colorida (flag 1)\n",
    "\n",
    "\n",
    "# Plote a imagem com Matplotlib\n"
   ]
  },
  {
   "cell_type": "markdown",
   "metadata": {},
   "source": [
    "### RGB (Red, Green, Blue) \n",
    "\n",
    "Na seção anterior realizamos a conversão de BGR para RGB manualmente, mas também é possível utilizar a função `cv2.cvtColor()`\n",
    "\n",
    "> Flag: `cv2.COLOR_BGR2RGB`\n",
    "\n",
    "RGB é o espaço de cores mais comum, onde cada cor é definida por uma combinação de três valores, que representam a intensidade de cada cor primária: vermelho, verde e azul. A maioria das imagens digitais é representada em RGB."
   ]
  },
  {
   "cell_type": "code",
   "execution_count": null,
   "metadata": {},
   "outputs": [],
   "source": [
    "# Converte a imagem de BGR para RGB\n",
    "\n",
    "\n",
    "# Plote a imagem com Matplotlib\n"
   ]
  },
  {
   "cell_type": "markdown",
   "metadata": {},
   "source": [
    "### Conversão para Grayscale (Escala de Cinza)\n",
    "É um espaço de cores com apenas uma dimensão, representando variações de intensidade de luz, indo do preto (valor 0) ao branco (valor 255). Não contém informações de cor, apenas a intensidade luminosa.\n",
    "\n",
    "> Flag: `cv2.COLOR_BGR2GRAY`"
   ]
  },
  {
   "cell_type": "code",
   "execution_count": null,
   "metadata": {},
   "outputs": [],
   "source": [
    "# Converta a imagem de BGR para GRAY\n",
    "\n",
    "\n",
    "# Plote a imagem com Matplotlib\n"
   ]
  },
  {
   "cell_type": "markdown",
   "metadata": {},
   "source": [
    "### HSV (Hue, Saturation, Value) \n",
    "\n",
    "Esse espaço de cores representa as cores de uma forma mais intuitiva:\n",
    "\n",
    "- Hue (Matiz): Representa a cor (0 a 360° no círculo cromático).\n",
    "- Saturation (Saturação): Define a “pureza” ou intensidade da cor (0 a 100%).\n",
    "- Value (Valor de Brilho): Representa o brilho da cor (0 a 100%).\n",
    "\n",
    "![hsv](../docs/assets/color.jpg)\n",
    "\n",
    "> Flag: `cv2.COLOR_BGR2HSV`"
   ]
  },
  {
   "cell_type": "code",
   "execution_count": null,
   "metadata": {},
   "outputs": [],
   "source": [
    "# Transformar a imagem em HSV\n"
   ]
  },
  {
   "cell_type": "markdown",
   "metadata": {},
   "source": [
    "> **Tente exibir cada componente (canal) da imagem em HSV separadamente utilizando o mapa de cores `hsv` do Matplotlib.**"
   ]
  },
  {
   "cell_type": "code",
   "execution_count": null,
   "metadata": {},
   "outputs": [],
   "source": [
    "# Exibir valores de Matiz\n"
   ]
  },
  {
   "cell_type": "code",
   "execution_count": null,
   "metadata": {},
   "outputs": [],
   "source": [
    "# Exibir valores de Saturação\n"
   ]
  },
  {
   "cell_type": "code",
   "execution_count": null,
   "metadata": {},
   "outputs": [],
   "source": [
    "# Exibir valores de Brilho\n"
   ]
  },
  {
   "cell_type": "markdown",
   "metadata": {},
   "source": [
    "---\n",
    "## Extração de Regiões de Interesse (ROI)\n",
    "\n",
    "Em muitos projetos será necessário tratar partes específicas de uma imagem, denominadas Regiões de Interesse (ROI). Para extrair uma ROI é possível usar a ferramenta de slicing do NumPy.\n",
    "\n",
    "Em uma imagem colorida (RGB), geralmente representada por um array com a forma (altura, largura, canais), o slicing permite selecionar uma parte da imagem, definindo intervalos para as dimensões de altura e largura.\n",
    "\n",
    "A operação de slicing é feita com a seguinte sintaxe: `imagem[a1:b1, a2:b2, c1:c2]`. O operador `:` permite a seleção de todos os elementos entre `a` e `b`.\n",
    "\n",
    "> **Extraia uma ROI contendo a imagem inteira:**"
   ]
  },
  {
   "cell_type": "code",
   "execution_count": null,
   "metadata": {},
   "outputs": [],
   "source": [
    "# Extraia uma ROI contendo a imagem inteira\n",
    "\n",
    "\n",
    "# Exiba a ROI com Matplotlib\n"
   ]
  },
  {
   "cell_type": "markdown",
   "metadata": {},
   "source": [
    "> **Extraia uma ROI contendo a metade esquerda da imagem:**"
   ]
  },
  {
   "cell_type": "code",
   "execution_count": null,
   "metadata": {},
   "outputs": [],
   "source": [
    "# Extraia uma ROI contendo a metade esquerda da imagem\n",
    "\n",
    "\n",
    "# Exiba a ROI com Matplotlib\n"
   ]
  },
  {
   "cell_type": "markdown",
   "metadata": {},
   "source": [
    "> **Agora vamos extrair apenas a face do Gato:**"
   ]
  },
  {
   "cell_type": "code",
   "execution_count": null,
   "metadata": {},
   "outputs": [],
   "source": [
    "# Extraia uma ROI explicitamente contendo a face do gato\n",
    "\n",
    "\n",
    "# Exiba a ROI com Matplotlib\n"
   ]
  },
  {
   "cell_type": "markdown",
   "metadata": {},
   "source": [
    "---\n",
    "## Desenhando Formas Geométricas na Imagem\n",
    "\n",
    "Nesta seção vamos explorar as funções do OpenCV que permitem a inserção de formas geométricas na imagem.\n",
    "\n",
    "Essas funções de desenho são amplamente utilizadas em aplicações práticas:\n",
    "\n",
    "- Visualização: Desenhar contornos, destacar objetos e adicionar feedback visual em algoritmos de detecção (como detecção de rostos, contagem de objetos, ou rastreamento de movimento).\n",
    "- Anotação e Rotulagem: Facilitar a anotação manual de dados para treinamento de modelos de machine learning.\n",
    "- Depuração: Durante o desenvolvimento, ajudam a verificar se os algoritmos de processamento de imagem estão funcionando corretamente, mostrando áreas de interesse ou resultados diretamente sobre a imagem.\n",
    "\n",
    "### Desenhando Linhas\n",
    "\n",
    "> **Vamos começar desenhando linhas na imagem com a função `cv2.line()`:**"
   ]
  },
  {
   "cell_type": "code",
   "execution_count": null,
   "metadata": {},
   "outputs": [],
   "source": [
    "# Faça uma cópia da imagem_rgb\n",
    "\n",
    "\n",
    "# Desenhe um X na imagem (2 linhas)\n",
    "\n",
    "\n",
    "# Plote a imagem\n"
   ]
  },
  {
   "cell_type": "markdown",
   "metadata": {},
   "source": [
    "# Desenhando Formas Geométricas\n",
    "\n",
    "A função `cv2.rectangle()` desenha um retângulo na imagem de entrada.\n",
    "\n",
    "![rectangle_coords](../docs/assets/rectangle.png)\n",
    "\n",
    "> **Desenhe uma caixa delimitadora ao redor do gato**"
   ]
  },
  {
   "cell_type": "code",
   "execution_count": null,
   "metadata": {},
   "outputs": [],
   "source": [
    "# Faça uma cópia da imagem_rgb\n",
    "\n",
    "\n",
    "# Desenhe uma Bounding Box ao redor do gato\n",
    "\n",
    "\n",
    "# Plote a imagem\n"
   ]
  },
  {
   "cell_type": "markdown",
   "metadata": {},
   "source": [
    "De forma similar, a função `cv2.circle` desenha um círculo na imagem:"
   ]
  },
  {
   "cell_type": "code",
   "execution_count": null,
   "metadata": {},
   "outputs": [],
   "source": [
    "# Faça uma cópia da imagem_rgb\n",
    "\n",
    "\n",
    "# Desenhe um círculo para cobrir o rosto do gato\n",
    "\n",
    "\n",
    "# Plote a imagem\n"
   ]
  },
  {
   "cell_type": "code",
   "execution_count": null,
   "metadata": {},
   "outputs": [],
   "source": [
    "# Crie uma cópia da imagem RGB\n",
    "\n",
    "\n",
    "# Defina o texto que quer inserir\n",
    "\n",
    "\n",
    "# Insira o texto na imagem\n",
    "\n",
    "\n",
    "# Use a função cv2.arrowedLine() para desenhar \n",
    "# uma seta apontando do texto para o gato\n",
    "\n",
    "\n",
    "# Exiba\n"
   ]
  },
  {
   "cell_type": "markdown",
   "metadata": {},
   "source": [
    "> Uma aplicação útil é a inserção de Timestamps na imagem"
   ]
  },
  {
   "cell_type": "code",
   "execution_count": null,
   "metadata": {},
   "outputs": [],
   "source": [
    "# Importe a biblioteca datetime\n",
    "\n",
    "\n",
    "# Faça uma cópia da imagem\n",
    "\n",
    "\n",
    "# Armazene a data e hora atual em uma variável\n",
    "\n",
    "\n",
    "# Insera o texto na imagem\n",
    "\n",
    "\n",
    "# Plote a imagem\n"
   ]
  },
  {
   "cell_type": "markdown",
   "metadata": {},
   "source": [
    "---\n",
    "## Operações Lógicas\n",
    "\n",
    "As operações lógicas bitwise no OpenCV permitem manipular os pixels de uma imagem de maneira binária, usando operações como AND, OR, XOR, e NOT. Essas operações são fundamentais para combinar, mascarar ou destacar regiões específicas de imagens. Elas são comumente usadas em tarefas de segmentação, extração de regiões de interesse e combinação de imagens.\n",
    "\n",
    "![logic](../docs/assets/logic.png)\n",
    "\n",
    "Para demonstrar as operações lógicas, vamos criar duas máscaras binárias, uma contendo um círculo e outra um quadrado"
   ]
  },
  {
   "cell_type": "code",
   "execution_count": null,
   "metadata": {},
   "outputs": [],
   "source": [
    "# Criar duas imagens vazias usando NumPy\n",
    "# Dimensões da imagem (400x400)\n",
    "\n",
    "\n",
    "\n",
    "# Desenhar um retângulo branco na primeira imagem\n",
    "\n",
    "\n",
    "# Desenhar um círculo branco na segunda imagem\n",
    "\n",
    "\n",
    "# Mostrar as imagens em subplots\n",
    "\n",
    "\n",
    "\n"
   ]
  },
  {
   "cell_type": "markdown",
   "metadata": {},
   "source": [
    "### Operação NOT\n",
    "\n",
    "> `cv2.bitwise_not`()\n",
    "\n",
    "- Realiza uma operação NOT bit a bit, invertendo todos os bits de uma imagem. Os pixels pretos (0) tornam-se brancos (255), e os brancos tornam-se pretos.\n",
    "- Aplicação: Usada para inverter imagens ou criar máscaras complementares."
   ]
  },
  {
   "cell_type": "code",
   "execution_count": null,
   "metadata": {},
   "outputs": [],
   "source": [
    "# Inverta a imagem do círculo\n",
    "\n",
    "\n",
    "# Exiba a imagem\n"
   ]
  },
  {
   "cell_type": "markdown",
   "metadata": {},
   "source": [
    "### Operação AND\n",
    "\n",
    "> `cv2.bitwise_and()`\n",
    "\n",
    "- Realiza uma operação AND bit a bit entre duas imagens. O pixel resultante será branco (255) apenas se os dois pixels correspondentes forem brancos nas duas imagens.\n",
    "- Aplicação: Usada para segmentar ou extrair uma região específica de uma imagem usando uma máscara."
   ]
  },
  {
   "cell_type": "code",
   "execution_count": null,
   "metadata": {},
   "outputs": [],
   "source": [
    "# Aplique a operação AND nas imagens do quadrado e círculo\n",
    "\n",
    "\n",
    "# Exiba a imagem\n"
   ]
  },
  {
   "cell_type": "markdown",
   "metadata": {},
   "source": [
    "### Operação OR\n",
    "\n",
    "> `cv2.bitwise_or`\n",
    "\n",
    "- Realiza uma operação OR bit a bit entre duas imagens. O pixel resultante será branco se pelo menos um dos pixels correspondentes for branco em uma das imagens.\n",
    "- Aplicação: Usada para combinar duas imagens ou sobrepor regiões."
   ]
  },
  {
   "cell_type": "code",
   "execution_count": null,
   "metadata": {},
   "outputs": [],
   "source": [
    "# Aplique a operação OR\n",
    "\n",
    "\n",
    "# Exiba a imagem\n"
   ]
  },
  {
   "cell_type": "markdown",
   "metadata": {},
   "source": [
    "### Operação Bitwise XOR\n",
    "\n",
    "- Realiza uma operação XOR bit a bit entre duas imagens. O pixel resultante será branco se apenas um dos pixels correspondentes for branco, mas não ambos.\n",
    "- Aplicação: Usada para destacar as diferenças entre duas imagens."
   ]
  },
  {
   "cell_type": "code",
   "execution_count": null,
   "metadata": {},
   "outputs": [],
   "source": [
    "# Aplique a operação XOR\n",
    "\n",
    "\n",
    "# Exiba a imagem\n"
   ]
  },
  {
   "cell_type": "markdown",
   "metadata": {},
   "source": [
    "> **O que acontecerá se aplicarmos as operações na nossa imagem de exemplo?**"
   ]
  },
  {
   "cell_type": "code",
   "execution_count": null,
   "metadata": {},
   "outputs": [],
   "source": [
    "# Faça uma cópia da imagem de exemplo em escala de cinza\n",
    "\n",
    "\n",
    "# Exiba a imagem\n"
   ]
  },
  {
   "cell_type": "code",
   "execution_count": null,
   "metadata": {},
   "outputs": [],
   "source": [
    "# Crie uma matriz vazia do mesmo tamanho da imagem\n",
    "\n",
    "\n",
    "# Desenhe um circulo na imagem\n",
    "\n",
    "\n",
    "# Exiba o circulo\n"
   ]
  },
  {
   "cell_type": "markdown",
   "metadata": {},
   "source": [
    "Faça a operação correta para aplicar a máscara de segmentação na imagem do gato:"
   ]
  },
  {
   "cell_type": "code",
   "execution_count": null,
   "metadata": {},
   "outputs": [],
   "source": [
    "# Aplique a operação lógica correta\n",
    "\n",
    "\n",
    "# Exiba a imagem\n"
   ]
  }
 ],
 "metadata": {
  "kernelspec": {
   "display_name": "Python 3 (ipykernel)",
   "language": "python",
   "name": "python3"
  },
  "language_info": {
   "codemirror_mode": {
    "name": "ipython",
    "version": 3
   },
   "file_extension": ".py",
   "mimetype": "text/x-python",
   "name": "python",
   "nbconvert_exporter": "python",
   "pygments_lexer": "ipython3",
   "version": "3.12.5"
  }
 },
 "nbformat": 4,
 "nbformat_minor": 4
}
