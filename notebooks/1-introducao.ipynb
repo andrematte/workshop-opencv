{
 "cells": [
  {
   "cell_type": "markdown",
   "metadata": {
    "editable": true,
    "slideshow": {
     "slide_type": ""
    },
    "tags": []
   },
   "source": [
    "# 1 - Introdução ao OpenCV\n",
    "\n",
    "O **Open** Source **C**omputer **V**ision Library (OpenCV) é uma biblioteca de código aberto que implementa funções de processamento de imagem, muito utilizadas em projetos de **Visão Computacional**.\n",
    "\n",
    "![opencv-logo](https://miro.medium.com/v2/resize:fit:1400/0*uN4f5hAwHzHLUagL)\n",
    "\n",
    "- Originalmente desenvolvido pela Intel em 1999\n",
    "- Escrito primariamente na linguagem **C++**, porém também oferece *bindings* para **Python**, **Java** e **Matlab/Octave**\n",
    "\n",
    "> A documentação do OpenCV está disponível [**neste link**](https://docs.opencv.org/4.x/d6/d00/tutorial_py_root.html).\n",
    "\n",
    "Nesta primeira seção do workshop iremos aprender as funções básicas de carregamento de imagens com OpenCV:\n",
    "\n",
    "1. Representação matricial de imagens digitais\n",
    "2. Leitura, exibição e armazenamento de imagens\n",
    "3. Trabalhando com arquivos de vídeo\n",
    "4. Trabalhando com o *feed* de uma câmera externa"
   ]
  },
  {
   "cell_type": "markdown",
   "metadata": {},
   "source": [
    "---\n",
    "## Representação Matricial de Imagens Digitais\n",
    "\n",
    "A **representação de imagens digitais** no **OpenCV** e **NumPy** é feita por meio de arrays multidimensionais, ou tensores, implementados pela biblioteca **NumPy**. Cada imagem é composta por uma matriz de números, onde cada valor corresponde à intensidade de um pixel.\n",
    "\n",
    "- A intensidade do pixel varia, por padrão, entre 0 e 255.\n",
    "\n",
    "### Estrutura da Imagem\n",
    "Em OpenCV e NumPy, as imagens são representadas por um **array NumPy** de 2 ou 3 dimensões:\n",
    "\n",
    "- **Imagem em Escala de Cinza**: É representada por uma matriz 2D, onde cada elemento contém um valor de intensidade que vai de **0** (preto) a **255** (branco).\n",
    "\n",
    "- **Imagem Colorida (RGB)**: É representada por uma matriz 3D com 3 canais (para as cores vermelho, verde e azul).\n",
    "\n",
    "Em OpenCV, a ordem dos canais padrão é **BGR** (ao contrário do usual RGB). Aqui, cada pixel é um vetor de 3 valores representando as intensidades dos canais **B** (azul), **G** (verde) e **R** (vermelho)."
   ]
  },
  {
   "cell_type": "markdown",
   "metadata": {},
   "source": [
    "---\n",
    "## Importando as bibliotecas necessárias\n",
    "\n",
    "Vamos iniciar importando as bibliotecas necessárias para esta seção: `numpy`, `cv2` e `matplotlib.pyplot`."
   ]
  },
  {
   "cell_type": "code",
   "execution_count": 96,
   "metadata": {},
   "outputs": [],
   "source": [
    "# Importe as bibliotecas aqui\n",
    "\n",
    "\n"
   ]
  },
  {
   "cell_type": "markdown",
   "metadata": {},
   "source": [
    "---\n",
    "## Leitura, Exibição e Armazenamento de Imagens\n",
    "\n",
    "Vamos carregar a imagem de exemplo `/media/gatogordo.jpg`.\n",
    "\n",
    "> A função cv2.imread() permite a importação de um arquivo de imagem, retornando um tensor NumPy. As *flags* opcionais podem ser utilizadas. As principais *flags* são:\n",
    "\n",
    ">- 0: leitura em escala de cinza\n",
    ">- 1: leitura em BGR\n",
    ">- -1: leitura no formato original\n",
    "\n",
    "### Escala de Cinza"
   ]
  },
  {
   "cell_type": "code",
   "execution_count": 97,
   "metadata": {},
   "outputs": [],
   "source": [
    "# Leia a imagem e armazene-a em uma variável\n"
   ]
  },
  {
   "cell_type": "markdown",
   "metadata": {},
   "source": [
    "Utilize comandos do NumPy para verificar o conteúdo do tensor, o formato do tensor `imagem.shape` e os valores mínimos e máximos das intensidades dos pixels `imagem.min()` e `imagem.max()`. "
   ]
  },
  {
   "cell_type": "code",
   "execution_count": 98,
   "metadata": {},
   "outputs": [],
   "source": [
    "# Verificar o conteúdo da matriz\n"
   ]
  },
  {
   "cell_type": "code",
   "execution_count": 99,
   "metadata": {},
   "outputs": [],
   "source": [
    "# Verificar o formato da matriz\n"
   ]
  },
  {
   "cell_type": "code",
   "execution_count": 100,
   "metadata": {},
   "outputs": [],
   "source": [
    "# Verificar se os valores da imagem variam entre 0 a 255\n"
   ]
  },
  {
   "cell_type": "markdown",
   "metadata": {},
   "source": [
    "Podemos também exibir a imagem para verificar seu conteúdo. O OpenCV conta com a função `cv2.imshow()`, que abre a imagem em uma janela, porém esta função não funciona em Notebooks. Para visualizar a imagem Notebooks, vamos utilizar a função `plt.imshow()` do Matplotlib."
   ]
  },
  {
   "cell_type": "code",
   "execution_count": null,
   "metadata": {},
   "outputs": [],
   "source": [
    "# Plote a imagem com o mapa de cores \"Gray\".\n"
   ]
  },
  {
   "cell_type": "markdown",
   "metadata": {},
   "source": [
    "### Imagem Colorida\n",
    "\n",
    "Vamos repetir o processo para a imagem colorida (BGR)."
   ]
  },
  {
   "cell_type": "code",
   "execution_count": null,
   "metadata": {},
   "outputs": [],
   "source": [
    "# Carregue a imagem colorida (flag 1)\n",
    "\n",
    "\n",
    "# Plote a imagem com Matplotlib\n"
   ]
  },
  {
   "cell_type": "code",
   "execution_count": 103,
   "metadata": {},
   "outputs": [],
   "source": [
    "# Verificar o formato da matriz\n"
   ]
  },
  {
   "cell_type": "markdown",
   "metadata": {},
   "source": [
    "> No OpenCV, a ordem das cores é BGR (azul, verde, vermelho), enquanto no Matplotlib a ordem é RGB (vermelho, verde, azul). Portanto, ao exibir imagens carregadas com OpenCV usando Matplotlib, é comum precisar converter a ordem das cores de BGR para RGB.\n",
    "\n",
    "Podemos converter o espaço de cores de BGR para RGB simplesmente reordenando os canais da imagem."
   ]
  },
  {
   "cell_type": "code",
   "execution_count": 104,
   "metadata": {},
   "outputs": [],
   "source": [
    "# Extraia cada banda e armazene-as em variáveis\n",
    "\n",
    "\n"
   ]
  },
  {
   "cell_type": "markdown",
   "metadata": {},
   "source": [
    "Cada pixel das três bandas extraídas representa a intensidade de cada cor (azul, verde, vermelho) na imagem."
   ]
  },
  {
   "cell_type": "code",
   "execution_count": null,
   "metadata": {},
   "outputs": [],
   "source": [
    "# Plotar cada banda separadamente com Matplotlib\n",
    "\n",
    "\n"
   ]
  },
  {
   "cell_type": "markdown",
   "metadata": {},
   "source": [
    "Vamos reordenar as bandas para criar uma imagem RGB.\n",
    "\n",
    "> A função np.stack() do NumPy permite empilhar matrizes em qualquer dimensão, vamos empilhar as bandas na dimensão 2."
   ]
  },
  {
   "cell_type": "code",
   "execution_count": null,
   "metadata": {},
   "outputs": [],
   "source": [
    "# Montar uma imagem RGB a partir dos canais separados\n",
    "\n"
   ]
  },
  {
   "cell_type": "markdown",
   "metadata": {},
   "source": [
    "Agora a imagem é mostrada corretamente pelo MatPlotLib!\n",
    "\n",
    "Vamos salvar a imagem em um arquivo com a função `cv2.imwrite()`."
   ]
  },
  {
   "cell_type": "code",
   "execution_count": null,
   "metadata": {},
   "outputs": [],
   "source": [
    "# Salve a imagem em disco\n"
   ]
  },
  {
   "cell_type": "markdown",
   "metadata": {},
   "source": [
    "---\n",
    "## Trabalhando com Arquivos de Vídeo\n",
    "\n",
    "**Um arquivo de vídeo consiste em uma sequência de imagens**. A função `cv2.VideoCapture` é capaz de ler e iterar sobre um frame de cada vez. Portanto, todas as funcionalidades utilizadas a imagens podem ser aplicadas aos frames de vídeo.\n",
    "\n",
    "Vamos criar um objeto de captura de vídeo:"
   ]
  },
  {
   "cell_type": "code",
   "execution_count": 108,
   "metadata": {},
   "outputs": [],
   "source": [
    "# Crie um objeto de captura de vídeo\n"
   ]
  },
  {
   "cell_type": "markdown",
   "metadata": {},
   "source": [
    "A função `capture.get()` pode ser utilizada com um conjunto de *flags* para capturar informações sobre o arquivo de vídeo.\n",
    "\n",
    "- `capture.get(cv2.CAP_PROP_FPS)`: retorna a quantidade de frames por segundo (FPS)\n",
    "- `capture.get(cv2.CAP_PROP_FRAME_COUNT)`: retorna o número total de frames do vídeo\n",
    "- `capture.get(cv2.CAP_PROP_FRAME_WIDTH)`: retorna a largura do vídeo\n",
    "- `capture.get(cv2.CAP_PROP_FRAME_HEIGHT)`: retorna a altura do vídeo"
   ]
  },
  {
   "cell_type": "code",
   "execution_count": 109,
   "metadata": {},
   "outputs": [],
   "source": [
    "# Verifique o FPS do vídeo\n"
   ]
  },
  {
   "cell_type": "code",
   "execution_count": 110,
   "metadata": {},
   "outputs": [],
   "source": [
    "# Verifique o número total de frames do vídeo\n"
   ]
  },
  {
   "cell_type": "code",
   "execution_count": 111,
   "metadata": {},
   "outputs": [],
   "source": [
    "# Verifique a resolução do vídeo\n"
   ]
  },
  {
   "cell_type": "markdown",
   "metadata": {},
   "source": [
    "A função `capture.read()` itera sobre os frames do vídeo, retornando o próximo frame. Vamos ler os frames do vídeo e plotá-los com Matplotlib:"
   ]
  },
  {
   "cell_type": "code",
   "execution_count": null,
   "metadata": {},
   "outputs": [],
   "source": [
    "# Leia o próximo frame do vídeo\n",
    "\n",
    "\n",
    "# Converta para RGB\n",
    "\n",
    "\n",
    "# Exiba com matplotlib\n"
   ]
  },
  {
   "cell_type": "markdown",
   "metadata": {},
   "source": [
    "---\n",
    "## Trabalhando com o *Feed* de uma Câmera Externa\n",
    "\n",
    "Muitas vezes precisamos trabalhar com transmissões de vídeo vindas de dispositivos externos, como webcams ou câmeras IP.\n",
    "\n",
    "No OpenCV, a função `cv2.VideoCapture` também é capaz de receber o *feed* de vídeo de webcams, por exemplo. Basta trocar o caminho do arquivo de vídeo pelo id da webcam.\n"
   ]
  },
  {
   "cell_type": "code",
   "execution_count": null,
   "metadata": {},
   "outputs": [],
   "source": [
    "# Leia o feed de webcam (a webcam padrão tem id=0)\n"
   ]
  }
 ],
 "metadata": {
  "kernelspec": {
   "display_name": "Python 3 (ipykernel)",
   "language": "python",
   "name": "python3"
  },
  "language_info": {
   "codemirror_mode": {
    "name": "ipython",
    "version": 3
   },
   "file_extension": ".py",
   "mimetype": "text/x-python",
   "name": "python",
   "nbconvert_exporter": "python",
   "pygments_lexer": "ipython3",
   "version": "3.12.5"
  }
 },
 "nbformat": 4,
 "nbformat_minor": 4
}
